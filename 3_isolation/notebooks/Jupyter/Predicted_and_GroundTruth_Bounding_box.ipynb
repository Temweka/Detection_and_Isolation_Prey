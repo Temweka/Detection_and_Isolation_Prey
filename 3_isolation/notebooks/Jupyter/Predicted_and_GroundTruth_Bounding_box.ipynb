{
 "cells": [
  {
   "cell_type": "code",
   "execution_count": 1,
   "metadata": {},
   "outputs": [],
   "source": [
    "import numpy as  np\n",
    "import os\n",
    "import cv2\n",
    "import pandas as pd\n",
    "#from PIL import Image as pil_image\n",
    "from tqdm import tqdm\n",
    "import matplotlib.pyplot as plt\n",
    "%matplotlib inline\n",
    "import time"
   ]
  },
  {
   "cell_type": "code",
   "execution_count": 2,
   "metadata": {},
   "outputs": [
    {
     "name": "stdout",
     "output_type": "stream",
     "text": [
      "numpy version  1.16.6\n",
      "pandas 1.1.0\n",
      "openCV version  3.4.3\n"
     ]
    }
   ],
   "source": [
    "print(\"numpy version \", np.__version__)\n",
    "print(\"pandas\", pd.__version__)\n",
    "print(\"openCV version \", cv2.__version__)"
   ]
  },
  {
   "cell_type": "code",
   "execution_count": 3,
   "metadata": {},
   "outputs": [
    {
     "data": {
      "text/plain": [
       "'C:\\\\Users\\\\TemwekaC'"
      ]
     },
     "execution_count": 3,
     "metadata": {},
     "output_type": "execute_result"
    }
   ],
   "source": [
    "os.getcwd()"
   ]
  },
  {
   "cell_type": "code",
   "execution_count": 4,
   "metadata": {},
   "outputs": [],
   "source": [
    "path = \"C:\\\\Users\\\\TemwekaC\\\\Isolation_and_Detection_Prey\\\\isolation\""
   ]
  },
  {
   "cell_type": "code",
   "execution_count": 23,
   "metadata": {},
   "outputs": [
    {
     "data": {
      "text/plain": [
       "{0: 'Jellyfish', 1: 'Fish'}"
      ]
     },
     "execution_count": 23,
     "metadata": {},
     "output_type": "execute_result"
    }
   ],
   "source": [
    "# create dict to map class names to numbers for yolo\n",
    "classes = {}\n",
    "with open(os.path.join(path, \"classes.txt\"), \"r\") as myFile:\n",
    "    for num, line in enumerate(myFile, 0):\n",
    "        line = line.rstrip(\"\\n\")\n",
    "        classes[num] = line\n",
    "    myFile.close()\n",
    "\n",
    "classes"
   ]
  },
  {
   "cell_type": "code",
   "execution_count": 24,
   "metadata": {},
   "outputs": [],
   "source": [
    "def BB_coordinates(filename):    \n",
    "    coordinates = []\n",
    "    with open(filename) as f:\n",
    "        for line in f:\n",
    "            labels = line.split()\n",
    "            coord = [int(labels[0]), int(float(labels[-4])), int(float(labels[-3])) , int(float(labels[-2])), int(float(labels[-1]))]\n",
    "            coordinates.append(coord)\n",
    "        f.close()\n",
    "    \n",
    "    return coordinates"
   ]
  },
  {
   "cell_type": "code",
   "execution_count": 25,
   "metadata": {},
   "outputs": [],
   "source": [
    "#directory to the images\n",
    "image_dir = path + '\\\\data\\\\test\\\\test'\n",
    "\n",
    "#Directory to the ground truth text files\n",
    "gt_dir = path + '\\\\data\\\\test\\\\test\\\\txt'\n",
    "\n",
    "#Directory to the prediction text files\n",
    "pred_dir = path + '\\\\results\\\\main_data\\\\detection_files\\\\test'\n",
    "\n",
    "#Directory of where to save new images\n",
    "output_dir = path + '\\\\results\\\\main_data\\\\labelled_images\\\\test'"
   ]
  },
  {
   "cell_type": "code",
   "execution_count": 26,
   "metadata": {
    "scrolled": false
   },
   "outputs": [],
   "source": [
    "for filename in os.listdir(pred_dir):\n",
    "    filename_str = filename[:-4]\n",
    "    \n",
    "    os.chdir(image_dir)\n",
    "    image = cv2.imread((filename_str+\".png\"))\n",
    "    \n",
    "    os.chdir(gt_dir)\n",
    "    gt_coordinates = BB_coordinates(filename)\n",
    "    \n",
    "    #Adding bounding box from ground truth in blue\n",
    "    for row in gt_coordinates:\n",
    "        cv2.rectangle(image,(row[1],row[2]),(row[3],row[4]),(255,0,0),2)\n",
    "    \n",
    "    os.chdir(pred_dir)\n",
    "    pr_coordinates = BB_coordinates(filename)\n",
    "    \n",
    "    #Adding bounding box from YOLO Predictions in red\n",
    "    for row in pr_coordinates:\n",
    "        cv2.rectangle(image,(row[1],row[2]),(row[3],row[4]),(0,0,255),2)\n",
    "        position = (row[1],row[2])\n",
    "        cv2.putText(image, classes[row[0]], #text\n",
    "                    position, cv2.FONT_HERSHEY_PLAIN, \n",
    "                     0.85, (0, 0, 0, 0), 1) \n",
    "    \n",
    "    os.chdir(output_dir)\n",
    "    cv2.imwrite((filename_str+\".png\"), image)"
   ]
  },
  {
   "cell_type": "markdown",
   "metadata": {},
   "source": [
    "Images without predicted bounding boxes"
   ]
  },
  {
   "cell_type": "code",
   "execution_count": 27,
   "metadata": {},
   "outputs": [],
   "source": [
    "filenames = []\n",
    "os.chdir(path + '\\\\results\\\\main_data\\\\detection_files')\n",
    "with open(\"No_predictions_test.txt\") as f:\n",
    "    for line in f:\n",
    "        filenames.append(line.split())\n",
    "    f.close()"
   ]
  },
  {
   "cell_type": "code",
   "execution_count": 28,
   "metadata": {},
   "outputs": [],
   "source": [
    "#directory to the images\n",
    "image_dir = path + '\\\\data\\\\test\\\\test'\n",
    "\n",
    "#Directory to the ground truth text files\n",
    "gt_dir = path + '\\\\data\\\\test\\\\test\\\\txt'\n",
    "\n",
    "#Directory of where to save new images\n",
    "output_dir = path + '\\\\results\\\\main_data\\\\labelled_images\\\\missed_test'"
   ]
  },
  {
   "cell_type": "code",
   "execution_count": 29,
   "metadata": {},
   "outputs": [],
   "source": [
    "for file in filenames:\n",
    "    filename = file[0]\n",
    "    \n",
    "    os.chdir(image_dir)\n",
    "    image = cv2.imread((filename+\".png\"))\n",
    "    \n",
    "    os.chdir(gt_dir)\n",
    "    gt_coordinates = BB_coordinates((filename+\".txt\"))\n",
    "    \n",
    "    #Adding bounding box with label from ground truth\n",
    "    for row in gt_coordinates:\n",
    "        cv2.rectangle(image,(row[1],row[2]),(row[3],row[4]),(255,0,0),2)\n",
    "        position = (row[1],row[2])\n",
    "        cv2.putText(image, classes[row[0]], #text\n",
    "                    position, cv2.FONT_HERSHEY_PLAIN, \n",
    "                     0.85, (0, 0, 0, 0), 1) \n",
    "    \n",
    "    os.chdir(output_dir)\n",
    "    cv2.imwrite((filename+\".png\"), image)"
   ]
  },
  {
   "cell_type": "code",
   "execution_count": null,
   "metadata": {},
   "outputs": [],
   "source": []
  }
 ],
 "metadata": {
  "kernelspec": {
   "display_name": "Python 3",
   "language": "python",
   "name": "python3"
  },
  "language_info": {
   "codemirror_mode": {
    "name": "ipython",
    "version": 3
   },
   "file_extension": ".py",
   "mimetype": "text/x-python",
   "name": "python",
   "nbconvert_exporter": "python",
   "pygments_lexer": "ipython3",
   "version": "3.7.6"
  }
 },
 "nbformat": 4,
 "nbformat_minor": 4
}
