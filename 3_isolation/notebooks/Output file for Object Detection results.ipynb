{
 "cells": [
  {
   "cell_type": "code",
   "execution_count": 2,
   "metadata": {},
   "outputs": [],
   "source": [
    "import numpy as np\n",
    "import pandas as pd\n",
    "import os \n",
    "import re\n",
    "import datetime"
   ]
  },
  {
   "cell_type": "code",
   "execution_count": 3,
   "metadata": {},
   "outputs": [
    {
     "data": {
      "text/plain": [
       "'C:\\\\Users\\\\TemwekaC\\\\Isolation_and_Detection_Prey\\\\3_isolation'"
      ]
     },
     "execution_count": 3,
     "metadata": {},
     "output_type": "execute_result"
    }
   ],
   "source": [
    "path = 'C:\\\\Users\\\\TemwekaC\\\\Isolation_and_Detection_Prey\\\\3_isolation'\n",
    "\n",
    "path"
   ]
  },
  {
   "cell_type": "code",
   "execution_count": 4,
   "metadata": {},
   "outputs": [],
   "source": [
    "# create dict to map class names to numbers for yolo\n",
    "classes = {}\n",
    "with open(os.path.join(path, \"classes_3.txt\"), \"r\") as myFile:\n",
    "    for num, line in enumerate(myFile, 0):\n",
    "        line = line.rstrip(\"\\n\")\n",
    "        classes[line] = num\n",
    "    myFile.close()\n"
   ]
  },
  {
   "cell_type": "code",
   "execution_count": 5,
   "metadata": {},
   "outputs": [
    {
     "name": "stdout",
     "output_type": "stream",
     "text": [
      "{'Jellyfish': 0, 'Fish': 1, 'Penguins': 2}\n"
     ]
    }
   ],
   "source": [
    "print(classes) "
   ]
  },
  {
   "cell_type": "code",
   "execution_count": 6,
   "metadata": {},
   "outputs": [],
   "source": [
    "f = open((path+'\\\\results\\\\with_penguins\\\\result_penguin_MOVI0006.txt'), \"r\")\n",
    "contents = f.read()\n",
    "\n",
    "content_split = contents.split(\"Enter\")\n",
    "del content_split[0]\n",
    "del content_split[-1]"
   ]
  },
  {
   "cell_type": "code",
   "execution_count": 19,
   "metadata": {},
   "outputs": [
    {
     "name": "stdout",
     "output_type": "stream",
     "text": [
      "exists\n"
     ]
    }
   ],
   "source": [
    "final_des = (path +'\\\\results\\\\with_penguins\\\\MOVI0006')\n",
    "\n",
    "try:\n",
    "    os.mkdir(final_des)\n",
    "except:\n",
    "    print('exists')\n",
    "    \n",
    "columns = ['filename','date','time','frame_number','prey_event','prey_type']\n",
    "df_final = pd.DataFrame(columns=columns)\n",
    "\n",
    "for i, txt in enumerate(content_split):\n",
    "    x = re.findall(\"/.*png\", txt)\n",
    "    y = re.split(\"/\", x[0])\n",
    "\n",
    "    file_name = y[-1][:-4]\n",
    "    labels = file_name.split(\"_\")\n",
    "    Date = datetime.datetime.strptime(labels[4], '%Y-%m-%d').date()\n",
    "    Time = datetime.datetime.strptime((labels[5]+ \":\" + labels[6]+ \":\" +labels[7]), '%H:%M:%S').time()\n",
    "    Frame_No = int(labels[-1])\n",
    "    \n",
    "    \n",
    "    sections = re.split(\"\\.\",  txt)\n",
    "    body = sections[-1]\n",
    "    lines = body.split('\\n')[1:-1]\n",
    "\n",
    "    labels = []\n",
    "    \n",
    "    if lines:\n",
    "        prey_event = 1\n",
    "        for line in lines:\n",
    "            class_name = line.split(':',1)[0]\n",
    "            labels.append(class_name)\n",
    "        \n",
    "        if len(np.unique(labels)) == 3:\n",
    "            prey_type =  3 #Mixed prey with penguin\n",
    "        elif \n",
    "        elif np.unique(labels) == \"Fish\":\n",
    "            prey_type =  2 #Fish\n",
    "        else:\n",
    "            prey_type = 1 #Jellyfish\n",
    "\n",
    "    else: #Blank\n",
    "        prey_event = 0 \n",
    "        prey_type = 0  \n",
    "\n",
    "        \n",
    "    df = pd.concat([pd.DataFrame([file_name],  columns = ['filename']),\n",
    "                    pd.DataFrame([Date],  columns = ['date']),\n",
    "                    pd.DataFrame([Time],  columns = ['time']),\n",
    "                    pd.DataFrame([Frame_No],  columns = ['frame_number']),\n",
    "                    pd.DataFrame([prey_event],  columns = ['prey_event']),\n",
    "                    pd.DataFrame([prey_type], columns = ['prey_type'])], axis=1)\n",
    "\n",
    "    \n",
    "    df_final = pd.concat([df_final, df], axis=0).sort_values(by=['frame_number'])\n",
    "    #Sort by filename\n",
    "\n",
    "df_final.to_csv(final_des+'\\\\full_spreadsheet.csv',index=None, sep=',')"
   ]
  },
  {
   "cell_type": "code",
   "execution_count": 20,
   "metadata": {},
   "outputs": [
    {
     "data": {
      "text/html": [
       "<div>\n",
       "<style scoped>\n",
       "    .dataframe tbody tr th:only-of-type {\n",
       "        vertical-align: middle;\n",
       "    }\n",
       "\n",
       "    .dataframe tbody tr th {\n",
       "        vertical-align: top;\n",
       "    }\n",
       "\n",
       "    .dataframe thead th {\n",
       "        text-align: right;\n",
       "    }\n",
       "</style>\n",
       "<table border=\"1\" class=\"dataframe\">\n",
       "  <thead>\n",
       "    <tr style=\"text-align: right;\">\n",
       "      <th></th>\n",
       "      <th>filename</th>\n",
       "      <th>date</th>\n",
       "      <th>time</th>\n",
       "      <th>frame_number</th>\n",
       "      <th>prey_event</th>\n",
       "      <th>prey_type</th>\n",
       "    </tr>\n",
       "  </thead>\n",
       "  <tbody>\n",
       "    <tr>\n",
       "      <th>0</th>\n",
       "      <td>GI-LP0238_7_MOVI0006.avi_image_2016-10-20_07_5...</td>\n",
       "      <td>2016-10-20</td>\n",
       "      <td>07:50:08</td>\n",
       "      <td>0</td>\n",
       "      <td>0</td>\n",
       "      <td>0</td>\n",
       "    </tr>\n",
       "    <tr>\n",
       "      <th>0</th>\n",
       "      <td>GI-LP0238_7_MOVI0006.avi_image_2016-10-20_07_5...</td>\n",
       "      <td>2016-10-20</td>\n",
       "      <td>07:50:08</td>\n",
       "      <td>1</td>\n",
       "      <td>0</td>\n",
       "      <td>0</td>\n",
       "    </tr>\n",
       "    <tr>\n",
       "      <th>0</th>\n",
       "      <td>GI-LP0238_7_MOVI0006.avi_image_2016-10-20_07_5...</td>\n",
       "      <td>2016-10-20</td>\n",
       "      <td>07:50:08</td>\n",
       "      <td>2</td>\n",
       "      <td>0</td>\n",
       "      <td>0</td>\n",
       "    </tr>\n",
       "    <tr>\n",
       "      <th>0</th>\n",
       "      <td>GI-LP0238_7_MOVI0006.avi_image_2016-10-20_07_5...</td>\n",
       "      <td>2016-10-20</td>\n",
       "      <td>07:50:08</td>\n",
       "      <td>3</td>\n",
       "      <td>0</td>\n",
       "      <td>0</td>\n",
       "    </tr>\n",
       "    <tr>\n",
       "      <th>0</th>\n",
       "      <td>GI-LP0238_7_MOVI0006.avi_image_2016-10-20_07_5...</td>\n",
       "      <td>2016-10-20</td>\n",
       "      <td>07:50:08</td>\n",
       "      <td>4</td>\n",
       "      <td>0</td>\n",
       "      <td>0</td>\n",
       "    </tr>\n",
       "    <tr>\n",
       "      <th>0</th>\n",
       "      <td>GI-LP0238_7_MOVI0006.avi_image_2016-10-20_07_5...</td>\n",
       "      <td>2016-10-20</td>\n",
       "      <td>07:50:08</td>\n",
       "      <td>5</td>\n",
       "      <td>1</td>\n",
       "      <td>1</td>\n",
       "    </tr>\n",
       "    <tr>\n",
       "      <th>0</th>\n",
       "      <td>GI-LP0238_7_MOVI0006.avi_image_2016-10-20_07_5...</td>\n",
       "      <td>2016-10-20</td>\n",
       "      <td>07:50:08</td>\n",
       "      <td>6</td>\n",
       "      <td>1</td>\n",
       "      <td>1</td>\n",
       "    </tr>\n",
       "    <tr>\n",
       "      <th>0</th>\n",
       "      <td>GI-LP0238_7_MOVI0006.avi_image_2016-10-20_07_5...</td>\n",
       "      <td>2016-10-20</td>\n",
       "      <td>07:50:08</td>\n",
       "      <td>7</td>\n",
       "      <td>1</td>\n",
       "      <td>1</td>\n",
       "    </tr>\n",
       "    <tr>\n",
       "      <th>0</th>\n",
       "      <td>GI-LP0238_7_MOVI0006.avi_image_2016-10-20_07_5...</td>\n",
       "      <td>2016-10-20</td>\n",
       "      <td>07:50:08</td>\n",
       "      <td>8</td>\n",
       "      <td>1</td>\n",
       "      <td>1</td>\n",
       "    </tr>\n",
       "    <tr>\n",
       "      <th>0</th>\n",
       "      <td>GI-LP0238_7_MOVI0006.avi_image_2016-10-20_07_5...</td>\n",
       "      <td>2016-10-20</td>\n",
       "      <td>07:50:08</td>\n",
       "      <td>9</td>\n",
       "      <td>1</td>\n",
       "      <td>3</td>\n",
       "    </tr>\n",
       "  </tbody>\n",
       "</table>\n",
       "</div>"
      ],
      "text/plain": [
       "                                            filename        date      time  \\\n",
       "0  GI-LP0238_7_MOVI0006.avi_image_2016-10-20_07_5...  2016-10-20  07:50:08   \n",
       "0  GI-LP0238_7_MOVI0006.avi_image_2016-10-20_07_5...  2016-10-20  07:50:08   \n",
       "0  GI-LP0238_7_MOVI0006.avi_image_2016-10-20_07_5...  2016-10-20  07:50:08   \n",
       "0  GI-LP0238_7_MOVI0006.avi_image_2016-10-20_07_5...  2016-10-20  07:50:08   \n",
       "0  GI-LP0238_7_MOVI0006.avi_image_2016-10-20_07_5...  2016-10-20  07:50:08   \n",
       "0  GI-LP0238_7_MOVI0006.avi_image_2016-10-20_07_5...  2016-10-20  07:50:08   \n",
       "0  GI-LP0238_7_MOVI0006.avi_image_2016-10-20_07_5...  2016-10-20  07:50:08   \n",
       "0  GI-LP0238_7_MOVI0006.avi_image_2016-10-20_07_5...  2016-10-20  07:50:08   \n",
       "0  GI-LP0238_7_MOVI0006.avi_image_2016-10-20_07_5...  2016-10-20  07:50:08   \n",
       "0  GI-LP0238_7_MOVI0006.avi_image_2016-10-20_07_5...  2016-10-20  07:50:08   \n",
       "\n",
       "  frame_number prey_event prey_type  \n",
       "0            0          0         0  \n",
       "0            1          0         0  \n",
       "0            2          0         0  \n",
       "0            3          0         0  \n",
       "0            4          0         0  \n",
       "0            5          1         1  \n",
       "0            6          1         1  \n",
       "0            7          1         1  \n",
       "0            8          1         1  \n",
       "0            9          1         3  "
      ]
     },
     "execution_count": 20,
     "metadata": {},
     "output_type": "execute_result"
    }
   ],
   "source": [
    "df_final.head(10)"
   ]
  },
  {
   "cell_type": "code",
   "execution_count": 15,
   "metadata": {},
   "outputs": [],
   "source": [
    "for i, txt in enumerate(content_split):\n",
    "    x = re.findall(\"/.*png\", txt)\n",
    "    y = re.split(\"/\", x[0])\n",
    "\n",
    "    file_name = y[-1][:-4]\n",
    "    labels = file_name.split(\"_\")\n",
    "    Date = datetime.datetime.strptime(labels[4], '%Y-%m-%d').date()\n",
    "    Time = datetime.datetime.strptime((labels[5]+ \":\" + labels[6]+ \":\" +labels[7]), '%H:%M:%S').time()\n",
    "    Frame_No = int(labels[-1])\n",
    "    \n",
    "    \n",
    "    sections = re.split(\"\\.\",  txt)\n",
    "    body = sections[-1]\n",
    "    lines = body.split('\\n')[1:-1]\n",
    "\n",
    "    labels = []\n",
    "    \n",
    "    if lines:\n",
    "        for line in lines:\n",
    "            class_name = line.split(':',1)[0]\n",
    "            labels.append(class_name)\n",
    "        \n",
    "        if len(np.unique(labels)) == 3:\n",
    "            prey_type =  3 #Mixed prey with penguin\n",
    "            prey_event = 1\n",
    "        elif len(np.unique(labels)) == 2:\n",
    "            if 'Penguin' in np.unique(labels):\n",
    "                if 'Fish' in np.unique(labels):\n",
    "                    prey_type =  2 #Fish\n",
    "                    prey_event = 1                    \n",
    "                else:\n",
    "                    prey_type = 1 #Jellyfish\n",
    "                    prey_event = 1\n",
    "            else:\n",
    "                prey_type = 3 #Mixed prey\n",
    "                prey_event = 1\n",
    "        elif np.unique(labels) == \"Fish\":\n",
    "            prey_event = 1\n",
    "            prey_type =  2 #Fish\n",
    "        elif np.unique(labels) == \"Jellyfish\":\n",
    "            prey_event = 1\n",
    "            prey_type = 1 #Jellyfish\n",
    "        else:\n",
    "            prey_type = 0\n",
    "            prey_event = 0\n",
    "\n",
    "    else: #Blank\n",
    "        prey_event = 0 \n",
    "        prey_type = 0  \n"
   ]
  },
  {
   "cell_type": "code",
   "execution_count": 31,
   "metadata": {},
   "outputs": [
    {
     "ename": "TypeError",
     "evalue": "unsupported operand type(s) for |: 'str' and 'str'",
     "output_type": "error",
     "traceback": [
      "\u001b[1;31m---------------------------------------------------------------------------\u001b[0m",
      "\u001b[1;31mTypeError\u001b[0m                                 Traceback (most recent call last)",
      "\u001b[1;32m<ipython-input-31-a51944d64ff7>\u001b[0m in \u001b[0;36m<module>\u001b[1;34m\u001b[0m\n\u001b[1;32m----> 1\u001b[1;33m \u001b[1;34m'Jellyfish'\u001b[0m\u001b[1;33m|\u001b[0m\u001b[1;34m'Penguin'\u001b[0m \u001b[1;32min\u001b[0m \u001b[0mnp\u001b[0m\u001b[1;33m.\u001b[0m\u001b[0munique\u001b[0m\u001b[1;33m(\u001b[0m\u001b[0mlabels\u001b[0m\u001b[1;33m)\u001b[0m\u001b[1;33m\u001b[0m\u001b[1;33m\u001b[0m\u001b[0m\n\u001b[0m",
      "\u001b[1;31mTypeError\u001b[0m: unsupported operand type(s) for |: 'str' and 'str'"
     ]
    }
   ],
   "source": [
    "'Jellyfish'|'Penguin' in np.unique(labels)"
   ]
  },
  {
   "cell_type": "code",
   "execution_count": 12,
   "metadata": {},
   "outputs": [
    {
     "data": {
      "text/plain": [
       "[' Image Path:  Detection layer: 82 - type = 28 \\n Detection layer: 94 - type = 28 \\n Detection layer: 106 - type = 28 \\ndata/MOVI0006/GI-LP0238_7_MOVI0006.avi_image_2016-10-20_07_51_39_2757.png: Predicted in 40.688000 milli-seconds.\\n',\n",
       " ' Image Path:  Detection layer: 82 - type = 28 \\n Detection layer: 94 - type = 28 \\n Detection layer: 106 - type = 28 \\ndata/MOVI0006/GI-LP0238_7_MOVI0006.avi_image_2016-10-20_07_50_32_741.png: Predicted in 40.630000 milli-seconds.\\n']"
      ]
     },
     "execution_count": 12,
     "metadata": {},
     "output_type": "execute_result"
    }
   ],
   "source": [
    "content_split[0:2]"
   ]
  },
  {
   "cell_type": "code",
   "execution_count": null,
   "metadata": {},
   "outputs": [],
   "source": []
  }
 ],
 "metadata": {
  "kernelspec": {
   "display_name": "Python 3",
   "language": "python",
   "name": "python3"
  },
  "language_info": {
   "codemirror_mode": {
    "name": "ipython",
    "version": 3
   },
   "file_extension": ".py",
   "mimetype": "text/x-python",
   "name": "python",
   "nbconvert_exporter": "python",
   "pygments_lexer": "ipython3",
   "version": "3.7.6"
  }
 },
 "nbformat": 4,
 "nbformat_minor": 4
}
