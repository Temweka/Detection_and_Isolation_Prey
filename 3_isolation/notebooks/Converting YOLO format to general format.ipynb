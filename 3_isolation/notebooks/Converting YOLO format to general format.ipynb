{
 "cells": [
  {
   "cell_type": "code",
   "execution_count": 1,
   "metadata": {},
   "outputs": [],
   "source": [
    "import os\n",
    "import cv2\n",
    "import numpy as np\n",
    "import pandas as pd\n",
    "from tqdm import tqdm"
   ]
  },
  {
   "cell_type": "code",
   "execution_count": 25,
   "metadata": {},
   "outputs": [],
   "source": [
    "#from YOLO to general Xmin;..;Ymax format"
   ]
  },
  {
   "cell_type": "code",
   "execution_count": 2,
   "metadata": {},
   "outputs": [
    {
     "data": {
      "text/plain": [
       "'C:\\\\Users\\\\TemwekaC'"
      ]
     },
     "execution_count": 2,
     "metadata": {},
     "output_type": "execute_result"
    }
   ],
   "source": [
    "os.getcwd()"
   ]
  },
  {
   "cell_type": "code",
   "execution_count": 3,
   "metadata": {},
   "outputs": [],
   "source": [
    "def convert(filename_str, coords, directory):\n",
    "    os.chdir(directory)\n",
    "    image = cv2.imread(filename_str + \".png\")\n",
    "    width = int(image.shape[1])\n",
    "    height = int(image.shape[0])\n",
    "    \n",
    "    x_diff = coords[2] * width\n",
    "    y_diff = coords[3] * height\n",
    "    \n",
    "    coords[0] = int(round((coords[0] * width) - x_diff/2, 0))\n",
    "    coords[1] = int(round((coords[1] * height) - y_diff/2, 0))\n",
    "    \n",
    "    coords[2] = int(round(coords[0] + x_diff, 0))\n",
    "    coords[3] = int(round(coords[1] + y_diff, 0))\n",
    "\n",
    "    return coords"
   ]
  },
  {
   "cell_type": "code",
   "execution_count": 8,
   "metadata": {},
   "outputs": [],
   "source": [
    "image_dir = \"C:\\\\Users\\\\TemwekaC\\\\Isolation_and_Detection_Prey\\\\isolation\\\\data\\\\test\\\\test\""
   ]
  },
  {
   "cell_type": "code",
   "execution_count": 9,
   "metadata": {},
   "outputs": [
    {
     "name": "stderr",
     "output_type": "stream",
     "text": [
      "100%|██████████████████████████████████████████████████████████████████████████████| 1815/1815 [00:44<00:00, 41.00it/s]\n"
     ]
    }
   ],
   "source": [
    "os.chdir(image_dir)\n",
    "\n",
    "for filename in tqdm(os.listdir(os.getcwd())):\n",
    "    filename_str = filename[:-4]\n",
    "    if filename.endswith(\".txt\"):\n",
    "        annotations = []\n",
    "        with open(filename) as f:\n",
    "            for line in f:\n",
    "                labels = line.split()\n",
    "                coords = np.asarray([float(labels[1]), float(labels[2]), float(labels[3]), float(labels[4])])\n",
    "                coords = convert(filename_str, coords, image_dir)\n",
    "                labels[1], labels[2], labels[3], labels[4] = coords[0], coords[1], coords[2], coords[3]\n",
    "                newline = str(labels[0]) + \" \" + str(labels[1]) + \" \" + str(labels[2]) + \" \" + str(labels[3]) + \" \" + str(labels[4])\n",
    "                line = line.replace(line, newline)\n",
    "                annotations.append(line)\n",
    "            f.close()\n",
    "        os.chdir(\"C:\\\\Users\\\\TemwekaC\\\\Isolation_and_Detection_Prey\\\\isolation\\\\data\\\\test\\\\test\\\\txt\")\n",
    "        with open(filename, \"w\") as outfile:\n",
    "            for line in annotations:\n",
    "                outfile.write(line)\n",
    "                outfile.write(\"\\n\")\n",
    "            outfile.close()\n",
    "        os.chdir(image_dir)"
   ]
  },
  {
   "cell_type": "code",
   "execution_count": null,
   "metadata": {},
   "outputs": [],
   "source": []
  },
  {
   "cell_type": "code",
   "execution_count": null,
   "metadata": {},
   "outputs": [],
   "source": []
  }
 ],
 "metadata": {
  "kernelspec": {
   "display_name": "Python 3",
   "language": "python",
   "name": "python3"
  },
  "language_info": {
   "codemirror_mode": {
    "name": "ipython",
    "version": 3
   },
   "file_extension": ".py",
   "mimetype": "text/x-python",
   "name": "python",
   "nbconvert_exporter": "python",
   "pygments_lexer": "ipython3",
   "version": "3.7.6"
  }
 },
 "nbformat": 4,
 "nbformat_minor": 4
}
