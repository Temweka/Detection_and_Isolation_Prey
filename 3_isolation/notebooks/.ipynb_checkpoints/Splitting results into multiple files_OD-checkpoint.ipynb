{
 "cells": [
  {
   "cell_type": "code",
   "execution_count": 1,
   "metadata": {},
   "outputs": [],
   "source": [
    "import numpy as np\n",
    "import pandas as pd\n",
    "import os \n",
    "import re"
   ]
  },
  {
   "cell_type": "code",
   "execution_count": 2,
   "metadata": {},
   "outputs": [
    {
     "data": {
      "text/plain": [
       "'C:\\\\Users\\\\TemwekaC\\\\Isolation_and_Detection_Prey\\\\isolation'"
      ]
     },
     "execution_count": 2,
     "metadata": {},
     "output_type": "execute_result"
    }
   ],
   "source": [
    "path = 'C:\\\\Users\\\\TemwekaC\\\\Isolation_and_Detection_Prey\\\\3_isolation'\n",
    "\n",
    "path"
   ]
  },
  {
   "cell_type": "code",
   "execution_count": 3,
   "metadata": {},
   "outputs": [],
   "source": [
    "# create dict to map class names to numbers for yolo\n",
    "classes = {}\n",
    "with open(os.path.join(path, \"classes.txt\"), \"r\") as myFile:\n",
    "    for num, line in enumerate(myFile, 0):\n",
    "        line = line.rstrip(\"\\n\")\n",
    "        classes[line] = num\n",
    "    myFile.close()\n"
   ]
  },
  {
   "cell_type": "code",
   "execution_count": 4,
   "metadata": {},
   "outputs": [
    {
     "name": "stdout",
     "output_type": "stream",
     "text": [
      "{'Jellyfish': 0, 'Fish': 1}\n"
     ]
    }
   ],
   "source": [
    "print(classes) "
   ]
  },
  {
   "cell_type": "code",
   "execution_count": 13,
   "metadata": {},
   "outputs": [],
   "source": [
    "f = open((path+'\\\\results\\\\main_data\\\\result_lr0_01_train.txt'), \"r\")\n",
    "contents = f.read()\n",
    "\n",
    "content_split = contents.split(\"Enter\")\n",
    "del content_split[0]\n",
    "del content_split[-1]"
   ]
  },
  {
   "cell_type": "code",
   "execution_count": 14,
   "metadata": {},
   "outputs": [
    {
     "name": "stdout",
     "output_type": "stream",
     "text": [
      "exists\n",
      "No prediction for GI-LP0250_10_MOVI0009.avi_image_2016-10-22_09_44_49_19169\n",
      "No prediction for GI-LP0250_10_MOVI0009.avi_image_2016-10-22_09_44_20_18287\n",
      "No prediction for GI-LP0250_10_MOVI0009.avi_image_2016-10-22_09_44_25_18431\n",
      "No prediction for GI-LP0268_11_MOVI0010.avi_image_2016-11-23_10_01_50_2531\n",
      "No prediction for GI-LP0272_6_MOVI0084.avi_image_2016-11-24_07_42_26_20943\n",
      "No prediction for GI-LP0250_10_MOVI0009.avi_image_2016-10-22_09_44_41_18923\n",
      "No prediction for GI-LP0250_10_MOVI0009.avi_image_2016-10-22_09_44_50_19171\n",
      "No prediction for GI-LP0250_10_MOVI0009.avi_image_2016-10-22_09_44_41_18925\n",
      "No prediction for GI-LP0268_9_MOVI0008.avi_image_2016-11-23_09_07_00_13173\n",
      "No prediction for GI-LP0237_5_MOVI0004.avi_image_2016-10-18_07_06_28_19692\n",
      "No prediction for GI-LP0265_5_MOVI0004.avi_image_2016-11-23_07_22_41_12328\n",
      "No prediction for GI-LP0268_9_MOVI0008.avi_image_2016-11-23_09_07_01_13228\n",
      "No prediction for GI-LP0272_6_MOVI0084.avi_image_2016-11-24_07_39_45_16111\n",
      "No prediction for GI-LP0269_14_MOVI0013.avi_image_2016-11-22_11_35_15_17717\n",
      "No prediction for GI-LP0250_10_MOVI0009.avi_image_2016-10-22_09_44_25_18437\n",
      "No prediction for GI-LP0250_10_MOVI0009.avi_image_2016-10-22_09_44_41_18924\n",
      "No prediction for GI-LP0237_5_MOVI0004.avi_image_2016-10-18_07_06_28_19688\n",
      "No prediction for GI-LP0268_9_MOVI0008.avi_image_2016-11-23_09_08_40_16190\n",
      "No prediction for GI-LP0273_12_MOVI0011.avi_image_2016-11-26_10_38_45_35571\n",
      "No prediction for GI-LP0269_14_MOVI0013.avi_image_2016-11-22_11_35_14_17695\n",
      "No prediction for GI-LP0250_10_MOVI0009.avi_image_2016-10-22_09_44_24_18417\n",
      "No prediction for GI-LP0269_14_MOVI0013.avi_image_2016-11-22_11_35_16_17735\n",
      "No prediction for GI-LP0263_10_MOVI0009.avi_image_2016-11-22_09_44_54_7654\n",
      "No prediction for GI-LP0250_10_MOVI0009.avi_image_2016-10-22_09_44_20_18296\n",
      "No prediction for GI-LP0269_14_MOVI0013.avi_image_2016-11-22_11_35_15_17707\n",
      "No prediction for GI-LP0272_6_MOVI0084.avi_image_2016-11-24_07_42_41_21406\n"
     ]
    }
   ],
   "source": [
    "final_des = (path +'\\\\results\\\\main_data\\\\detection_files\\\\train')\n",
    "\n",
    "try:\n",
    "    os.mkdir(final_des)\n",
    "except:\n",
    "    print('exists')\n",
    "    \n",
    "no_predictions = []\n",
    "\n",
    "for i, txt in enumerate(content_split):\n",
    "    x = re.findall(\"/.*png\", txt)\n",
    "    y = re.split(\"/\", x[0])\n",
    "    file_name = y[-1][:-4]\n",
    "    \n",
    "    sections = re.split(\"\\.\",  txt)\n",
    "    body = sections[-1]\n",
    "    lines = body.split('\\n')[1:-1]\n",
    "\n",
    "    labels = []\n",
    "    coordinates = [] \n",
    "    \n",
    "    if lines:\n",
    "        for line in lines:\n",
    "            numbers = re.findall(\"-*[0-9]+\", line)\n",
    "            class_name = line.split(':',1)[0]\n",
    "            coordinates.append(map(int, numbers)) \n",
    "            labels.append(class_name)\n",
    "\n",
    "\n",
    "        df = pd.concat([pd.DataFrame(labels,  columns = ['label']),\n",
    "                        pd.DataFrame(coordinates)], axis=1)\n",
    "        \n",
    "        df[\"label\"] = df[\"label\"].replace(classes) #replacing text label with numeric label\n",
    "        df[0] = df[0]/100 # changing percentage into a decimal value between (0,1)\n",
    "        df[3] = df[1] + df[3] #converting width to x_max \n",
    "        df[4] = df[2] + df[4] #converting height to y_max \n",
    "\n",
    "        df.to_csv(final_des+'\\\\'+file_name+'.txt',index=None, header=None, sep=' ')\n",
    "    else:\n",
    "        print(\"No prediction for\", file_name)\n",
    "        no_predictions.append(file_name)\n"
   ]
  },
  {
   "cell_type": "code",
   "execution_count": 16,
   "metadata": {},
   "outputs": [
    {
     "data": {
      "text/plain": [
       "26"
      ]
     },
     "execution_count": 16,
     "metadata": {},
     "output_type": "execute_result"
    }
   ],
   "source": [
    "len(no_predictions)"
   ]
  },
  {
   "cell_type": "code",
   "execution_count": 15,
   "metadata": {},
   "outputs": [],
   "source": [
    "folder_des = (path +'\\\\results\\\\main_data\\\\detection_files\\\\train')\n",
    "os.chdir(folder_des)\n",
    "with open(\"No_predictions_train.txt\", \"w\") as outfile:\n",
    "    for line in no_predictions:\n",
    "        outfile.write(line)\n",
    "        outfile.write(\"\\n\")\n",
    "    outfile.close()\n"
   ]
  },
  {
   "cell_type": "code",
   "execution_count": null,
   "metadata": {},
   "outputs": [],
   "source": []
  }
 ],
 "metadata": {
  "kernelspec": {
   "display_name": "Python 3",
   "language": "python",
   "name": "python3"
  },
  "language_info": {
   "codemirror_mode": {
    "name": "ipython",
    "version": 3
   },
   "file_extension": ".py",
   "mimetype": "text/x-python",
   "name": "python",
   "nbconvert_exporter": "python",
   "pygments_lexer": "ipython3",
   "version": "3.7.6"
  }
 },
 "nbformat": 4,
 "nbformat_minor": 4
}
