{
 "cells": [
  {
   "cell_type": "code",
   "execution_count": 10,
   "metadata": {},
   "outputs": [],
   "source": [
    "import numpy as  np\n",
    "import os\n",
    "import cv2\n",
    "import pandas as pd\n",
    "#from PIL import Image as pil_image\n",
    "from tqdm import tqdm\n",
    "import matplotlib.pyplot as plt\n",
    "%matplotlib inline\n",
    "import time"
   ]
  },
  {
   "cell_type": "code",
   "execution_count": 11,
   "metadata": {},
   "outputs": [
    {
     "name": "stdout",
     "output_type": "stream",
     "text": [
      "numpy version  1.16.6\n",
      "pandas 1.1.0\n",
      "openCV version  3.4.3\n"
     ]
    }
   ],
   "source": [
    "print(\"numpy version \", np.__version__)\n",
    "print(\"pandas\", pd.__version__)\n",
    "print(\"openCV version \", cv2.__version__)"
   ]
  },
  {
   "cell_type": "code",
   "execution_count": 12,
   "metadata": {},
   "outputs": [
    {
     "data": {
      "text/plain": [
       "'C:\\\\Users\\\\TemwekaC\\\\Isolation_and_Detection_Prey\\\\3_isolation\\\\results\\\\with_penguins\\\\MOVI0006\\\\files'"
      ]
     },
     "execution_count": 12,
     "metadata": {},
     "output_type": "execute_result"
    }
   ],
   "source": [
    "os.getcwd()"
   ]
  },
  {
   "cell_type": "code",
   "execution_count": 13,
   "metadata": {},
   "outputs": [],
   "source": [
    "path = \"C:\\\\Users\\\\TemwekaC\\\\Isolation_and_Detection_Prey\\\\3_isolation\""
   ]
  },
  {
   "cell_type": "code",
   "execution_count": 14,
   "metadata": {},
   "outputs": [
    {
     "data": {
      "text/plain": [
       "{0: 'Jellyfish', 1: 'Fish', 2: 'Penguin'}"
      ]
     },
     "execution_count": 14,
     "metadata": {},
     "output_type": "execute_result"
    }
   ],
   "source": [
    "# create dict to map class names to numbers for yolo\n",
    "classes = {}\n",
    "with open(os.path.join(path, \"classes_3.txt\"), \"r\") as myFile:\n",
    "    for num, line in enumerate(myFile, 0):\n",
    "        line = line.rstrip(\"\\n\")\n",
    "        classes[num] = line\n",
    "    myFile.close()\n",
    "\n",
    "classes"
   ]
  },
  {
   "cell_type": "code",
   "execution_count": 15,
   "metadata": {},
   "outputs": [],
   "source": [
    "def BB_coordinates(filename):    \n",
    "    coordinates = []\n",
    "    with open(filename) as f:\n",
    "        for line in f:\n",
    "            labels = line.split()\n",
    "            coord = [int(labels[0]), int(float(labels[-4])), int(float(labels[-3])) , int(float(labels[-2])), int(float(labels[-1]))]\n",
    "            coordinates.append(coord)\n",
    "        f.close()\n",
    "    \n",
    "    return coordinates"
   ]
  },
  {
   "cell_type": "code",
   "execution_count": 16,
   "metadata": {},
   "outputs": [],
   "source": [
    "#directory to the images\n",
    "image_dir = path + '\\\\results\\\\MOVI0006\\\\images'\n",
    "\n",
    "#Directory to the ground truth text files\n",
    "gt_dir = ''\n",
    "\n",
    "#Directory to the prediction text files\n",
    "pred_dir = path + '\\\\results\\\\with_penguins\\\\MOVI0006\\\\files'\n",
    "\n",
    "#Directory of where to save new images\n",
    "output_dir = path + '\\\\results\\\\with_penguins\\\\MOVI0006\\\\images'"
   ]
  },
  {
   "cell_type": "code",
   "execution_count": 17,
   "metadata": {},
   "outputs": [
    {
     "data": {
      "text/plain": [
       "'C:\\\\Users\\\\TemwekaC\\\\Isolation_and_Detection_Prey\\\\3_isolation\\\\results\\\\MOVI0006\\\\images'"
      ]
     },
     "execution_count": 17,
     "metadata": {},
     "output_type": "execute_result"
    }
   ],
   "source": [
    "image_dir"
   ]
  },
  {
   "cell_type": "code",
   "execution_count": 18,
   "metadata": {},
   "outputs": [],
   "source": [
    "for filename in os.listdir(pred_dir):\n",
    "    filename_str = filename[:-4]\n",
    "    \n",
    "    os.chdir(image_dir)\n",
    "    image = cv2.imread((filename_str+\".png\"))\n",
    "    \n",
    "   # os.chdir(gt_dir)\n",
    "   # gt_coordinates = BB_coordinates(filename)\n",
    "    \n",
    "    #Adding bounding box from ground truth\n",
    "   # for row in gt_coordinates:\n",
    "   #     cv2.rectangle(image,(row[0],row[1]),(row[2],row[3]),(255,0,0),2)\n",
    "    \n",
    "    os.chdir(pred_dir)\n",
    "    pr_coordinates = BB_coordinates(filename)\n",
    "    \n",
    "    #Adding bounding box from YOLO Predictions\n",
    "    for row in pr_coordinates:\n",
    "        cv2.rectangle(image,(row[1],row[2]),(row[3],row[4]),(0,0,255),2)\n",
    "        position = (row[1],row[2])\n",
    "        cv2.putText(image, classes[row[0]], #text\n",
    "                    position, cv2.FONT_HERSHEY_PLAIN, \n",
    "                     0.85, (0, 0, 0, 0), 1) \n",
    "    \n",
    "    os.chdir(output_dir)\n",
    "    cv2.imwrite((filename_str+\".png\"), image)"
   ]
  },
  {
   "cell_type": "markdown",
   "metadata": {},
   "source": [
    "Images without predicted bounding boxes"
   ]
  },
  {
   "cell_type": "code",
   "execution_count": 13,
   "metadata": {},
   "outputs": [],
   "source": [
    "filenames = []\n",
    "os.chdir(\"C:\\\\Users\\\\TemwekaC\\\\Input_images\\\\2_object_detection\\\\obj1\\\\results_folder\")\n",
    "with open(\"No_predictions_test.txt\") as f:\n",
    "    for line in f:\n",
    "        filenames.append(line.split())\n",
    "    f.close()"
   ]
  },
  {
   "cell_type": "code",
   "execution_count": 63,
   "metadata": {},
   "outputs": [],
   "source": [
    "output_dir = 'C:\\\\Users\\\\TemwekaC\\\\Input_images\\\\2_object_detection\\\\obj1\\\\results_folder\\\\BB_images\\\\No_prediction_test'"
   ]
  },
  {
   "cell_type": "code",
   "execution_count": 14,
   "metadata": {},
   "outputs": [],
   "source": [
    "image_dir = 'C:\\\\Users\\\\TemwekaC\\\\Input_images\\\\2_object_detection\\\\obj1\\\\test'\n",
    "gt_dir = 'C:\\\\Users\\\\TemwekaC\\\\Input_images\\\\2_object_detection\\\\obj1\\\\results_folder\\\\ground_truth_test'\n",
    "output_dir = 'C:\\\\Users\\\\TemwekaC\\\\Input_images\\\\2_object_detection\\\\obj1\\\\results_folder\\\\BB_images\\\\checking'"
   ]
  },
  {
   "cell_type": "code",
   "execution_count": null,
   "metadata": {},
   "outputs": [],
   "source": [
    "    #Adding bounding box from YOLO Predictions\n",
    "    for row in pr_coordinates:\n",
    "        cv2.rectangle(image,(row[0],row[1]),(row[2],row[3]),(0,0,255),2)"
   ]
  },
  {
   "cell_type": "code",
   "execution_count": 35,
   "metadata": {},
   "outputs": [],
   "source": [
    "for file in filenames:\n",
    "    filename =file[0]\n",
    "    \n",
    "    os.chdir(image_dir)\n",
    "    image = cv2.imread((filename+\".png\"))\n",
    "    \n",
    "    os.chdir(gt_dir)\n",
    "    gt_coordinates = BB_coordinates((filename+\".txt\"))\n",
    "    \n",
    "    #Adding bounding box with label from ground truth\n",
    "    for row in gt_coordinates:\n",
    "        cv2.rectangle(image,(row[1],row[2]),(row[3],row[4]),(255,0,0),2)\n",
    "        position = (row[1],row[2])\n",
    "        cv2.putText(image, classes[row[0]], #text\n",
    "                    position, cv2.FONT_HERSHEY_PLAIN, \n",
    "                     0.85, (0, 0, 0, 0), 1) \n",
    "    \n",
    "    os.chdir(output_dir)\n",
    "    cv2.imwrite((filename+\".png\"), image)"
   ]
  },
  {
   "cell_type": "code",
   "execution_count": 17,
   "metadata": {},
   "outputs": [
    {
     "data": {
      "text/plain": [
       "'Jellyfish'"
      ]
     },
     "execution_count": 17,
     "metadata": {},
     "output_type": "execute_result"
    }
   ],
   "source": []
  },
  {
   "cell_type": "code",
   "execution_count": null,
   "metadata": {},
   "outputs": [],
   "source": []
  }
 ],
 "metadata": {
  "kernelspec": {
   "display_name": "Python 3",
   "language": "python",
   "name": "python3"
  },
  "language_info": {
   "codemirror_mode": {
    "name": "ipython",
    "version": 3
   },
   "file_extension": ".py",
   "mimetype": "text/x-python",
   "name": "python",
   "nbconvert_exporter": "python",
   "pygments_lexer": "ipython3",
   "version": "3.7.6"
  }
 },
 "nbformat": 4,
 "nbformat_minor": 4
}
