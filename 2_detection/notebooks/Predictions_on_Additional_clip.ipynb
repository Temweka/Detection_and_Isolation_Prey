{
  "nbformat": 4,
  "nbformat_minor": 0,
  "metadata": {
    "colab": {
      "name": "Predictions_on_Additional_clip.ipynb",
      "provenance": []
    },
    "kernelspec": {
      "name": "python3",
      "display_name": "Python 3"
    }
  },
  "cells": [
    {
      "cell_type": "markdown",
      "metadata": {
        "id": "rasPVxF8yCaD"
      },
      "source": [
        "Import useful librabries"
      ]
    },
    {
      "cell_type": "code",
      "metadata": {
        "id": "RLbkb0LWx58q"
      },
      "source": [
        "import numpy as np\n",
        "import pandas as pd\n",
        "import matplotlib.pyplot as plt\n",
        "from sklearn.metrics import accuracy_score, confusion_matrix"
      ],
      "execution_count": null,
      "outputs": []
    },
    {
      "cell_type": "code",
      "metadata": {
        "id": "hBjaVXbghmDS",
        "colab": {
          "base_uri": "https://localhost:8080/"
        },
        "outputId": "bdb8a428-3c63-4e87-b630-2799978587b6"
      },
      "source": [
        "from google.colab import drive\n",
        "drive.mount('/content/gdrive')"
      ],
      "execution_count": null,
      "outputs": [
        {
          "output_type": "stream",
          "text": [
            "Mounted at /content/gdrive\n"
          ],
          "name": "stdout"
        }
      ]
    },
    {
      "cell_type": "code",
      "metadata": {
        "id": "YJRkch7JyO4s"
      },
      "source": [
        "# this creates a symbolic link so that now the path /content/drive/My\\ Drive/ is equal to /mydrive\n",
        "!ln -s /content/gdrive/My\\ Drive/ /mydrive\n",
        "#!ls /mydrive"
      ],
      "execution_count": null,
      "outputs": []
    },
    {
      "cell_type": "code",
      "metadata": {
        "id": "BcV2hJskz9g7",
        "colab": {
          "base_uri": "https://localhost:8080/",
          "height": 347
        },
        "outputId": "bc7eb80e-0c60-4ed8-f2ce-1deea6c967dc"
      },
      "source": [
        "#import csv with predictions of prey and non-prey events after object detection task\r\n",
        "pred_df = pd.read_csv(\"/mydrive/Thesis_Data/Object_Detection/full_spreadsheet.csv\")\r\n",
        "\r\n",
        "#import csv with predictions of prey and non-prey events after object detection task with penguin labels #uncomment line below\r\n",
        "#pred_df = pd.read_csv(\"/mydrive/Thesis_Data/Object_Detection/full_spreadsheet_2.csv\")\r\n",
        "pred_df.head(10)"
      ],
      "execution_count": null,
      "outputs": [
        {
          "output_type": "execute_result",
          "data": {
            "text/html": [
              "<div>\n",
              "<style scoped>\n",
              "    .dataframe tbody tr th:only-of-type {\n",
              "        vertical-align: middle;\n",
              "    }\n",
              "\n",
              "    .dataframe tbody tr th {\n",
              "        vertical-align: top;\n",
              "    }\n",
              "\n",
              "    .dataframe thead th {\n",
              "        text-align: right;\n",
              "    }\n",
              "</style>\n",
              "<table border=\"1\" class=\"dataframe\">\n",
              "  <thead>\n",
              "    <tr style=\"text-align: right;\">\n",
              "      <th></th>\n",
              "      <th>filename</th>\n",
              "      <th>date</th>\n",
              "      <th>time</th>\n",
              "      <th>frame_number</th>\n",
              "      <th>prey_event</th>\n",
              "      <th>prey_type</th>\n",
              "    </tr>\n",
              "  </thead>\n",
              "  <tbody>\n",
              "    <tr>\n",
              "      <th>0</th>\n",
              "      <td>GI-LP0238_7_MOVI0006.avi_image_2016-10-20_07_5...</td>\n",
              "      <td>2016/10/20</td>\n",
              "      <td>07:50:08</td>\n",
              "      <td>0</td>\n",
              "      <td>0</td>\n",
              "      <td>0</td>\n",
              "    </tr>\n",
              "    <tr>\n",
              "      <th>1</th>\n",
              "      <td>GI-LP0238_7_MOVI0006.avi_image_2016-10-20_07_5...</td>\n",
              "      <td>2016/10/20</td>\n",
              "      <td>07:50:08</td>\n",
              "      <td>1</td>\n",
              "      <td>0</td>\n",
              "      <td>0</td>\n",
              "    </tr>\n",
              "    <tr>\n",
              "      <th>2</th>\n",
              "      <td>GI-LP0238_7_MOVI0006.avi_image_2016-10-20_07_5...</td>\n",
              "      <td>2016/10/20</td>\n",
              "      <td>07:50:08</td>\n",
              "      <td>2</td>\n",
              "      <td>0</td>\n",
              "      <td>0</td>\n",
              "    </tr>\n",
              "    <tr>\n",
              "      <th>3</th>\n",
              "      <td>GI-LP0238_7_MOVI0006.avi_image_2016-10-20_07_5...</td>\n",
              "      <td>2016/10/20</td>\n",
              "      <td>07:50:08</td>\n",
              "      <td>3</td>\n",
              "      <td>0</td>\n",
              "      <td>0</td>\n",
              "    </tr>\n",
              "    <tr>\n",
              "      <th>4</th>\n",
              "      <td>GI-LP0238_7_MOVI0006.avi_image_2016-10-20_07_5...</td>\n",
              "      <td>2016/10/20</td>\n",
              "      <td>07:50:08</td>\n",
              "      <td>4</td>\n",
              "      <td>0</td>\n",
              "      <td>0</td>\n",
              "    </tr>\n",
              "    <tr>\n",
              "      <th>5</th>\n",
              "      <td>GI-LP0238_7_MOVI0006.avi_image_2016-10-20_07_5...</td>\n",
              "      <td>2016/10/20</td>\n",
              "      <td>07:50:08</td>\n",
              "      <td>5</td>\n",
              "      <td>1</td>\n",
              "      <td>1</td>\n",
              "    </tr>\n",
              "    <tr>\n",
              "      <th>6</th>\n",
              "      <td>GI-LP0238_7_MOVI0006.avi_image_2016-10-20_07_5...</td>\n",
              "      <td>2016/10/20</td>\n",
              "      <td>07:50:08</td>\n",
              "      <td>6</td>\n",
              "      <td>1</td>\n",
              "      <td>1</td>\n",
              "    </tr>\n",
              "    <tr>\n",
              "      <th>7</th>\n",
              "      <td>GI-LP0238_7_MOVI0006.avi_image_2016-10-20_07_5...</td>\n",
              "      <td>2016/10/20</td>\n",
              "      <td>07:50:08</td>\n",
              "      <td>7</td>\n",
              "      <td>1</td>\n",
              "      <td>1</td>\n",
              "    </tr>\n",
              "    <tr>\n",
              "      <th>8</th>\n",
              "      <td>GI-LP0238_7_MOVI0006.avi_image_2016-10-20_07_5...</td>\n",
              "      <td>2016/10/20</td>\n",
              "      <td>07:50:08</td>\n",
              "      <td>8</td>\n",
              "      <td>1</td>\n",
              "      <td>1</td>\n",
              "    </tr>\n",
              "    <tr>\n",
              "      <th>9</th>\n",
              "      <td>GI-LP0238_7_MOVI0006.avi_image_2016-10-20_07_5...</td>\n",
              "      <td>2016/10/20</td>\n",
              "      <td>07:50:08</td>\n",
              "      <td>9</td>\n",
              "      <td>1</td>\n",
              "      <td>3</td>\n",
              "    </tr>\n",
              "  </tbody>\n",
              "</table>\n",
              "</div>"
            ],
            "text/plain": [
              "                                            filename  ... prey_type\n",
              "0  GI-LP0238_7_MOVI0006.avi_image_2016-10-20_07_5...  ...         0\n",
              "1  GI-LP0238_7_MOVI0006.avi_image_2016-10-20_07_5...  ...         0\n",
              "2  GI-LP0238_7_MOVI0006.avi_image_2016-10-20_07_5...  ...         0\n",
              "3  GI-LP0238_7_MOVI0006.avi_image_2016-10-20_07_5...  ...         0\n",
              "4  GI-LP0238_7_MOVI0006.avi_image_2016-10-20_07_5...  ...         0\n",
              "5  GI-LP0238_7_MOVI0006.avi_image_2016-10-20_07_5...  ...         1\n",
              "6  GI-LP0238_7_MOVI0006.avi_image_2016-10-20_07_5...  ...         1\n",
              "7  GI-LP0238_7_MOVI0006.avi_image_2016-10-20_07_5...  ...         1\n",
              "8  GI-LP0238_7_MOVI0006.avi_image_2016-10-20_07_5...  ...         1\n",
              "9  GI-LP0238_7_MOVI0006.avi_image_2016-10-20_07_5...  ...         3\n",
              "\n",
              "[10 rows x 6 columns]"
            ]
          },
          "metadata": {
            "tags": []
          },
          "execution_count": 4
        }
      ]
    },
    {
      "cell_type": "code",
      "metadata": {
        "id": "O_f317TCzrxj",
        "colab": {
          "base_uri": "https://localhost:8080/",
          "height": 347
        },
        "outputId": "2e291070-8d75-4d44-c613-a7f912006354"
      },
      "source": [
        "#import csv with ground truth labels of prey and non-prey events\n",
        "ground_df = pd.read_csv(\"/mydrive/Thesis_Data/Object_Detection/ground_truth_labels.csv\")\n",
        "ground_df.head(10)"
      ],
      "execution_count": null,
      "outputs": [
        {
          "output_type": "execute_result",
          "data": {
            "text/html": [
              "<div>\n",
              "<style scoped>\n",
              "    .dataframe tbody tr th:only-of-type {\n",
              "        vertical-align: middle;\n",
              "    }\n",
              "\n",
              "    .dataframe tbody tr th {\n",
              "        vertical-align: top;\n",
              "    }\n",
              "\n",
              "    .dataframe thead th {\n",
              "        text-align: right;\n",
              "    }\n",
              "</style>\n",
              "<table border=\"1\" class=\"dataframe\">\n",
              "  <thead>\n",
              "    <tr style=\"text-align: right;\">\n",
              "      <th></th>\n",
              "      <th>Unnamed: 0</th>\n",
              "      <th>File_Name</th>\n",
              "      <th>penguin_ID</th>\n",
              "      <th>Video_ID</th>\n",
              "      <th>Date</th>\n",
              "      <th>Time</th>\n",
              "      <th>Frame_No</th>\n",
              "      <th>Label</th>\n",
              "    </tr>\n",
              "  </thead>\n",
              "  <tbody>\n",
              "    <tr>\n",
              "      <th>0</th>\n",
              "      <td>0</td>\n",
              "      <td>GI-LP0238_7_MOVI0006.avi_image_2016-10-20_07_5...</td>\n",
              "      <td>GI-LP0238</td>\n",
              "      <td>MOVI0006</td>\n",
              "      <td>2016-10-20</td>\n",
              "      <td>07:50:08</td>\n",
              "      <td>0</td>\n",
              "      <td>nonprey</td>\n",
              "    </tr>\n",
              "    <tr>\n",
              "      <th>1</th>\n",
              "      <td>1</td>\n",
              "      <td>GI-LP0238_7_MOVI0006.avi_image_2016-10-20_07_5...</td>\n",
              "      <td>GI-LP0238</td>\n",
              "      <td>MOVI0006</td>\n",
              "      <td>2016-10-20</td>\n",
              "      <td>07:50:08</td>\n",
              "      <td>1</td>\n",
              "      <td>nonprey</td>\n",
              "    </tr>\n",
              "    <tr>\n",
              "      <th>2</th>\n",
              "      <td>12</td>\n",
              "      <td>GI-LP0238_7_MOVI0006.avi_image_2016-10-20_07_5...</td>\n",
              "      <td>GI-LP0238</td>\n",
              "      <td>MOVI0006</td>\n",
              "      <td>2016-10-20</td>\n",
              "      <td>07:50:08</td>\n",
              "      <td>2</td>\n",
              "      <td>nonprey</td>\n",
              "    </tr>\n",
              "    <tr>\n",
              "      <th>3</th>\n",
              "      <td>23</td>\n",
              "      <td>GI-LP0238_7_MOVI0006.avi_image_2016-10-20_07_5...</td>\n",
              "      <td>GI-LP0238</td>\n",
              "      <td>MOVI0006</td>\n",
              "      <td>2016-10-20</td>\n",
              "      <td>07:50:08</td>\n",
              "      <td>3</td>\n",
              "      <td>nonprey</td>\n",
              "    </tr>\n",
              "    <tr>\n",
              "      <th>4</th>\n",
              "      <td>24</td>\n",
              "      <td>GI-LP0238_7_MOVI0006.avi_image_2016-10-20_07_5...</td>\n",
              "      <td>GI-LP0238</td>\n",
              "      <td>MOVI0006</td>\n",
              "      <td>2016-10-20</td>\n",
              "      <td>07:50:08</td>\n",
              "      <td>4</td>\n",
              "      <td>nonprey</td>\n",
              "    </tr>\n",
              "    <tr>\n",
              "      <th>5</th>\n",
              "      <td>25</td>\n",
              "      <td>GI-LP0238_7_MOVI0006.avi_image_2016-10-20_07_5...</td>\n",
              "      <td>GI-LP0238</td>\n",
              "      <td>MOVI0006</td>\n",
              "      <td>2016-10-20</td>\n",
              "      <td>07:50:08</td>\n",
              "      <td>5</td>\n",
              "      <td>nonprey</td>\n",
              "    </tr>\n",
              "    <tr>\n",
              "      <th>6</th>\n",
              "      <td>26</td>\n",
              "      <td>GI-LP0238_7_MOVI0006.avi_image_2016-10-20_07_5...</td>\n",
              "      <td>GI-LP0238</td>\n",
              "      <td>MOVI0006</td>\n",
              "      <td>2016-10-20</td>\n",
              "      <td>07:50:08</td>\n",
              "      <td>6</td>\n",
              "      <td>nonprey</td>\n",
              "    </tr>\n",
              "    <tr>\n",
              "      <th>7</th>\n",
              "      <td>27</td>\n",
              "      <td>GI-LP0238_7_MOVI0006.avi_image_2016-10-20_07_5...</td>\n",
              "      <td>GI-LP0238</td>\n",
              "      <td>MOVI0006</td>\n",
              "      <td>2016-10-20</td>\n",
              "      <td>07:50:08</td>\n",
              "      <td>7</td>\n",
              "      <td>nonprey</td>\n",
              "    </tr>\n",
              "    <tr>\n",
              "      <th>8</th>\n",
              "      <td>28</td>\n",
              "      <td>GI-LP0238_7_MOVI0006.avi_image_2016-10-20_07_5...</td>\n",
              "      <td>GI-LP0238</td>\n",
              "      <td>MOVI0006</td>\n",
              "      <td>2016-10-20</td>\n",
              "      <td>07:50:08</td>\n",
              "      <td>8</td>\n",
              "      <td>nonprey</td>\n",
              "    </tr>\n",
              "    <tr>\n",
              "      <th>9</th>\n",
              "      <td>29</td>\n",
              "      <td>GI-LP0238_7_MOVI0006.avi_image_2016-10-20_07_5...</td>\n",
              "      <td>GI-LP0238</td>\n",
              "      <td>MOVI0006</td>\n",
              "      <td>2016-10-20</td>\n",
              "      <td>07:50:08</td>\n",
              "      <td>9</td>\n",
              "      <td>nonprey</td>\n",
              "    </tr>\n",
              "  </tbody>\n",
              "</table>\n",
              "</div>"
            ],
            "text/plain": [
              "   Unnamed: 0  ...    Label\n",
              "0           0  ...  nonprey\n",
              "1           1  ...  nonprey\n",
              "2          12  ...  nonprey\n",
              "3          23  ...  nonprey\n",
              "4          24  ...  nonprey\n",
              "5          25  ...  nonprey\n",
              "6          26  ...  nonprey\n",
              "7          27  ...  nonprey\n",
              "8          28  ...  nonprey\n",
              "9          29  ...  nonprey\n",
              "\n",
              "[10 rows x 8 columns]"
            ]
          },
          "metadata": {
            "tags": []
          },
          "execution_count": 5
        }
      ]
    },
    {
      "cell_type": "code",
      "metadata": {
        "id": "9dxognrMf913"
      },
      "source": [
        "ground_df['Correct_Label'] = [1 if x == \"prey\" else 0 for x in ground_df['Label']]"
      ],
      "execution_count": null,
      "outputs": []
    },
    {
      "cell_type": "code",
      "metadata": {
        "id": "HFBpfSK70oVz"
      },
      "source": [
        "vid_pred = pred_df['prey_event']\n",
        "vid_true = ground_df['Correct_Label']"
      ],
      "execution_count": null,
      "outputs": []
    },
    {
      "cell_type": "code",
      "metadata": {
        "colab": {
          "base_uri": "https://localhost:8080/"
        },
        "id": "TSLDbCNopB2C",
        "outputId": "cc6a4368-ddfc-4ad6-d3a9-a9d470918325"
      },
      "source": [
        "#before penguins\r\n",
        "accuracy_score(vid_pred, vid_true)*100"
      ],
      "execution_count": null,
      "outputs": [
        {
          "output_type": "execute_result",
          "data": {
            "text/plain": [
              "73.36595976073953"
            ]
          },
          "metadata": {
            "tags": []
          },
          "execution_count": 25
        }
      ]
    },
    {
      "cell_type": "code",
      "metadata": {
        "id": "OWSVYBKA0LsT",
        "colab": {
          "base_uri": "https://localhost:8080/"
        },
        "outputId": "75cd7e22-266c-4935-a5f0-befb5eff728e"
      },
      "source": [
        "confusion_matrix(vid_pred, vid_true)"
      ],
      "execution_count": null,
      "outputs": [
        {
          "output_type": "execute_result",
          "data": {
            "text/plain": [
              "array([[13463,    22],\n",
              "       [ 4876,    29]])"
            ]
          },
          "metadata": {
            "tags": []
          },
          "execution_count": 26
        }
      ]
    },
    {
      "cell_type": "code",
      "metadata": {
        "colab": {
          "base_uri": "https://localhost:8080/"
        },
        "id": "b674MDpGJTQX",
        "outputId": "6ee0230d-b221-440b-f469-abdc7dc3dbb6"
      },
      "source": [
        "#after inclusion of penguins\r\n",
        "accuracy_score(vid_pred, vid_true)*100"
      ],
      "execution_count": null,
      "outputs": [
        {
          "output_type": "execute_result",
          "data": {
            "text/plain": [
              "76.03045133224579"
            ]
          },
          "metadata": {
            "tags": []
          },
          "execution_count": 8
        }
      ]
    },
    {
      "cell_type": "code",
      "metadata": {
        "colab": {
          "base_uri": "https://localhost:8080/"
        },
        "id": "SxY1tjLAJS-a",
        "outputId": "9089d418-05a0-4313-e539-fed1c45b6181"
      },
      "source": [
        "confusion_matrix(vid_pred, vid_true)"
      ],
      "execution_count": null,
      "outputs": [
        {
          "output_type": "execute_result",
          "data": {
            "text/plain": [
              "array([[13973,    42],\n",
              "       [ 4366,     9]])"
            ]
          },
          "metadata": {
            "tags": []
          },
          "execution_count": 9
        }
      ]
    },
    {
      "cell_type": "code",
      "metadata": {
        "id": "unq-262G0VME"
      },
      "source": [
        "def performance_measures(y_pred, y_true):\n",
        "  \"\"\"\n",
        "  Outputs the and specificity of a binary classification prediction model\n",
        "  Inputs:\n",
        "    y_pred (list) - predictions from model  \n",
        "    y_true (list) - true classes of dataset\n",
        "  Output:\n",
        "   recall, precision (tuple) - the recall, precision of the model\n",
        "  \"\"\"\n",
        "  confusion = confusion_matrix(y_pred, y_true)\n",
        "  TP = confusion[1,1]\n",
        "  FN = confusion[0,1]\n",
        "  FP = confusion[1,0]\n",
        "\n",
        "  recall = TP/(TP+FN)\n",
        "  precision = TP/(TP+FP)\n",
        "\n",
        "  return recall, precision"
      ],
      "execution_count": null,
      "outputs": []
    },
    {
      "cell_type": "code",
      "metadata": {
        "id": "HmLTvD2f1OQt",
        "colab": {
          "base_uri": "https://localhost:8080/"
        },
        "outputId": "d12dff04-9f36-42cd-9999-2756237f4da9"
      },
      "source": [
        "performance_measures(vid_pred, vid_true)"
      ],
      "execution_count": null,
      "outputs": [
        {
          "output_type": "execute_result",
          "data": {
            "text/plain": [
              "(0.5686274509803921, 0.005912334352701326)"
            ]
          },
          "metadata": {
            "tags": []
          },
          "execution_count": 27
        }
      ]
    },
    {
      "cell_type": "code",
      "metadata": {
        "colab": {
          "base_uri": "https://localhost:8080/"
        },
        "id": "x050lo4zJmc4",
        "outputId": "a1a86e4b-a7ce-44de-db35-51a98e7523ec"
      },
      "source": [
        "performance_measures(vid_pred, vid_true)"
      ],
      "execution_count": null,
      "outputs": [
        {
          "output_type": "execute_result",
          "data": {
            "text/plain": [
              "(0.17647058823529413, 0.002057142857142857)"
            ]
          },
          "metadata": {
            "tags": []
          },
          "execution_count": 13
        }
      ]
    },
    {
      "cell_type": "code",
      "metadata": {
        "id": "puEbX6ax0YSr"
      },
      "source": [
        "def plot_results(start_datetime, frame_rate, true, pred, filename):\n",
        "  \"\"\"\n",
        "  Outputs and saves line graph of the true and predicted classes of images in a clip\n",
        "  Inputs:\n",
        "    start_datetime (str) - the start time of video clip used\n",
        "    frame_rate (int) - the number of frames per second in the video clip the \n",
        "                        images were extracted from \n",
        "    pred (list) - predicted classes of dataset  \n",
        "    true (list) - true classes of dataset\n",
        "    filename (str) - path to location and file name of saved plot\n",
        "  Output:\n",
        "   visualization \n",
        "  \"\"\"\n",
        "\n",
        "  import datetime as dt\n",
        "  import matplotlib.pyplot as plt\n",
        "  %matplotlib inline\n",
        "\n",
        "  start_datetime = pd.to_datetime(start_datetime)\n",
        "  date = start_datetime.date()\n",
        "  start_time = start_datetime.time()\n",
        "\n",
        "  time = start_time\n",
        "  time_label = [start_time]\n",
        "  delta = dt.timedelta(seconds=(1/frame_rate))\n",
        "\n",
        "  for i in range(0, (len(pred)-1)):\n",
        "    time = (dt.datetime.combine(dt.date(1,1,1),time) + delta).time()\n",
        "    time_label.append(time)\n",
        "  \n",
        "  time = start_time\n",
        "  seconds = int(round(len(pred)/(60*frame_rate),0))\n",
        "  time_ticks =[start_time]\n",
        "\n",
        "  for i in range(0, (seconds)):\n",
        "    time = (dt.datetime.combine(dt.date(1,1,1),time) +  dt.timedelta(seconds=(61))).time()\n",
        "    time_ticks.append(str(time))\n",
        "    \n",
        "  df = pd.concat([pd.DataFrame({'time':time_label}).astype('str'),  pd.DataFrame({'prediction':pred}),  pd.DataFrame({'ground_truth':true})], axis=1)\n",
        "\n",
        "  fig, ax = plt.subplots(figsize=(20, 10))\n",
        "  plt.plot(df['time'],df['prediction'], 'r', label='predictions')\n",
        "  plt.plot(df['time'],df['ground_truth'], 'b', label='ground truth')\n",
        "  plt.xticks(np.arange(len(pred), step=(60*frame_rate)),time_ticks, fontsize=17)\n",
        "  plt.yticks(fontsize=19)\n",
        "  plt.legend()\n",
        "  ax.set_xlabel('Time on ' + str(date), fontsize=25)\n",
        "  ax.set_ylabel('Prediction', fontsize=25)\n",
        "\n",
        "  plt.savefig((filename+'.png'))\n",
        "  plt.show()"
      ],
      "execution_count": null,
      "outputs": []
    },
    {
      "cell_type": "code",
      "metadata": {
        "id": "VtBda2kEORYc"
      },
      "source": [
        "location = \"/mydrive/Thesis_Data/Object_Detection/\""
      ],
      "execution_count": null,
      "outputs": []
    },
    {
      "cell_type": "code",
      "metadata": {
        "id": "r_2Rmhxn2Ln1",
        "colab": {
          "base_uri": "https://localhost:8080/",
          "height": 628
        },
        "outputId": "f99cd53e-36ef-4140-e684-90fb82e21d5d"
      },
      "source": [
        "plot_results('2016-10-20 07:50:06', frame_rate = 30, true = vid_true, pred = vid_pred, filename = (location+\"movi6\"))"
      ],
      "execution_count": null,
      "outputs": [
        {
          "output_type": "display_data",
          "data": {
            "image/png": "[encoded data removed]",
            "text/plain": [
              "<Figure size 1440x720 with 1 Axes>"
            ]
          },
          "metadata": {
            "tags": [],
            "needs_background": "light"
          }
        }
      ]
    },
    {
      "cell_type": "code",
      "metadata": {
        "colab": {
          "base_uri": "https://localhost:8080/",
          "height": 628
        },
        "id": "2kzd8x1NJscw",
        "outputId": "3ee8ad7f-3ecb-4e4d-ce67-d4704e294a20"
      },
      "source": [
        "plot_results('2016-10-20 07:50:06', frame_rate = 30, true = vid_true, pred = vid_pred, filename = (location+\"movi6_with_penguin_2\"))"
      ],
      "execution_count": null,
      "outputs": [
        {
          "output_type": "display_data",
          "data": {
            "image/png": "[encoded data removed]",
            "text/plain": [
              "<Figure size 1440x720 with 1 Axes>"
            ]
          },
          "metadata": {
            "tags": [],
            "needs_background": "light"
          }
        }
      ]
    },
    {
      "cell_type": "markdown",
      "metadata": {
        "id": "blKl1UEJw8DX"
      },
      "source": [
        "# Image Classifier"
      ]
    },
    {
      "cell_type": "code",
      "metadata": {
        "id": "sbp3r4YDq-31"
      },
      "source": [
        "directory = \"/mydrive/Thesis_Data/Image_Classification/\"\r\n",
        "full_df = pd.read_csv((directory+'MOVI0006_fullpredictions.csv'))"
      ],
      "execution_count": null,
      "outputs": []
    },
    {
      "cell_type": "code",
      "metadata": {
        "id": "wi9jD3YBrKzu"
      },
      "source": [
        "pred_classes= full_df[\"class\"].astype(int)"
      ],
      "execution_count": null,
      "outputs": []
    },
    {
      "cell_type": "code",
      "metadata": {
        "colab": {
          "base_uri": "https://localhost:8080/"
        },
        "id": "KxSu7mHLxBBG",
        "outputId": "cee80621-09f4-49ba-e434-c67e165e0f4e"
      },
      "source": [
        "accuracy_score(pred_classes, vid_true)*100"
      ],
      "execution_count": null,
      "outputs": [
        {
          "output_type": "execute_result",
          "data": {
            "text/plain": [
              "95.38879825992387"
            ]
          },
          "metadata": {
            "tags": []
          },
          "execution_count": 31
        }
      ]
    },
    {
      "cell_type": "code",
      "metadata": {
        "colab": {
          "base_uri": "https://localhost:8080/"
        },
        "id": "ndjJm0zNycP-",
        "outputId": "50879157-c791-4765-b857-3cc48c0e5935"
      },
      "source": [
        "confusion_matrix(pred_classes, vid_true)"
      ],
      "execution_count": null,
      "outputs": [
        {
          "output_type": "execute_result",
          "data": {
            "text/plain": [
              "array([[17538,    47],\n",
              "       [  801,     4]])"
            ]
          },
          "metadata": {
            "tags": []
          },
          "execution_count": 33
        }
      ]
    },
    {
      "cell_type": "code",
      "metadata": {
        "colab": {
          "base_uri": "https://localhost:8080/"
        },
        "id": "DhmFmAa8xYB_",
        "outputId": "f0a9fe7b-8261-44ab-94bb-9aa92d9dbc8b"
      },
      "source": [
        "performance_measures(pred_classes, vid_true)"
      ],
      "execution_count": null,
      "outputs": [
        {
          "output_type": "execute_result",
          "data": {
            "text/plain": [
              "(0.0784313725490196, 0.004968944099378882)"
            ]
          },
          "metadata": {
            "tags": []
          },
          "execution_count": 32
        }
      ]
    },
    {
      "cell_type": "code",
      "metadata": {
        "colab": {
          "base_uri": "https://localhost:8080/",
          "height": 628
        },
        "id": "nRvFLiKIrMXt",
        "outputId": "220fda3d-b813-4c97-b9d9-ad98d2502245"
      },
      "source": [
        "plot_results('2016-10-20 07:50:06', frame_rate = 30, true = vid_true, pred = pred_classes, filename = (directory+'MOVI0006_fullpredictions_2.png'))"
      ],
      "execution_count": null,
      "outputs": [
        {
          "output_type": "display_data",
          "data": {
            "image/png": "[encoded data removed]",
            "text/plain": [
              "<Figure size 1440x720 with 1 Axes>"
            ]
          },
          "metadata": {
            "tags": [],
            "needs_background": "light"
          }
        }
      ]
    },
    {
      "cell_type": "code",
      "metadata": {
        "colab": {
          "base_uri": "https://localhost:8080/",
          "height": 197
        },
        "id": "fMZnT2H72cTY",
        "outputId": "70b7ba9e-c428-4160-dae1-84a7f617877f"
      },
      "source": [
        "new_pred_df = pd.read_csv(\"/mydrive/Thesis_Data/Object_Detection/new_predictions.csv\")\r\n",
        "new_pred_df.head()"
      ],
      "execution_count": null,
      "outputs": [
        {
          "output_type": "execute_result",
          "data": {
            "text/html": [
              "<div>\n",
              "<style scoped>\n",
              "    .dataframe tbody tr th:only-of-type {\n",
              "        vertical-align: middle;\n",
              "    }\n",
              "\n",
              "    .dataframe tbody tr th {\n",
              "        vertical-align: top;\n",
              "    }\n",
              "\n",
              "    .dataframe thead th {\n",
              "        text-align: right;\n",
              "    }\n",
              "</style>\n",
              "<table border=\"1\" class=\"dataframe\">\n",
              "  <thead>\n",
              "    <tr style=\"text-align: right;\">\n",
              "      <th></th>\n",
              "      <th>Unnamed: 0</th>\n",
              "      <th>File_Name</th>\n",
              "      <th>prob_0</th>\n",
              "      <th>prob_1</th>\n",
              "      <th>class</th>\n",
              "      <th>new_class</th>\n",
              "    </tr>\n",
              "  </thead>\n",
              "  <tbody>\n",
              "    <tr>\n",
              "      <th>0</th>\n",
              "      <td>0</td>\n",
              "      <td>GI-LP0238_7_MOVI0006.avi_image_2016-10-20_07_5...</td>\n",
              "      <td>0.788379</td>\n",
              "      <td>0.211621</td>\n",
              "      <td>0</td>\n",
              "      <td>0</td>\n",
              "    </tr>\n",
              "    <tr>\n",
              "      <th>1</th>\n",
              "      <td>1</td>\n",
              "      <td>GI-LP0238_7_MOVI0006.avi_image_2016-10-20_07_5...</td>\n",
              "      <td>0.864135</td>\n",
              "      <td>0.135865</td>\n",
              "      <td>0</td>\n",
              "      <td>0</td>\n",
              "    </tr>\n",
              "    <tr>\n",
              "      <th>2</th>\n",
              "      <td>2</td>\n",
              "      <td>GI-LP0238_7_MOVI0006.avi_image_2016-10-20_07_5...</td>\n",
              "      <td>0.241822</td>\n",
              "      <td>0.758178</td>\n",
              "      <td>1</td>\n",
              "      <td>0</td>\n",
              "    </tr>\n",
              "    <tr>\n",
              "      <th>3</th>\n",
              "      <td>3</td>\n",
              "      <td>GI-LP0238_7_MOVI0006.avi_image_2016-10-20_07_5...</td>\n",
              "      <td>0.706499</td>\n",
              "      <td>0.293501</td>\n",
              "      <td>0</td>\n",
              "      <td>0</td>\n",
              "    </tr>\n",
              "    <tr>\n",
              "      <th>4</th>\n",
              "      <td>4</td>\n",
              "      <td>GI-LP0238_7_MOVI0006.avi_image_2016-10-20_07_5...</td>\n",
              "      <td>0.864135</td>\n",
              "      <td>0.135865</td>\n",
              "      <td>0</td>\n",
              "      <td>0</td>\n",
              "    </tr>\n",
              "  </tbody>\n",
              "</table>\n",
              "</div>"
            ],
            "text/plain": [
              "   Unnamed: 0  ... new_class\n",
              "0           0  ...         0\n",
              "1           1  ...         0\n",
              "2           2  ...         0\n",
              "3           3  ...         0\n",
              "4           4  ...         0\n",
              "\n",
              "[5 rows x 6 columns]"
            ]
          },
          "metadata": {
            "tags": []
          },
          "execution_count": 10
        }
      ]
    },
    {
      "cell_type": "code",
      "metadata": {
        "id": "kWjMJ0gB28fG"
      },
      "source": [
        "vid_newpred = new_pred_df['new_class']"
      ],
      "execution_count": null,
      "outputs": []
    },
    {
      "cell_type": "code",
      "metadata": {
        "colab": {
          "base_uri": "https://localhost:8080/",
          "height": 628
        },
        "id": "BXl0mgZk29GQ",
        "outputId": "38ace0b2-3317-41c5-baaf-1bd753a908cc"
      },
      "source": [
        "plot_results('2016-10-20 07:50:06', frame_rate = 30, true = vid_true, pred = vid_newpred, filename = (location+\"movi6_OD\"))"
      ],
      "execution_count": null,
      "outputs": [
        {
          "output_type": "display_data",
          "data": {
            "image/png": "[encoded data removed]",
            "text/plain": [
              "<Figure size 1440x720 with 1 Axes>"
            ]
          },
          "metadata": {
            "tags": [],
            "needs_background": "light"
          }
        }
      ]
    },
    {
      "cell_type": "code",
      "metadata": {
        "colab": {
          "base_uri": "https://localhost:8080/"
        },
        "id": "hfbrneBY-90p",
        "outputId": "6e203b70-0764-496f-c7b0-e1f81ef5041e"
      },
      "source": [
        "#after penguins\r\n",
        "accuracy_score(vid_newpred, vid_true)*100"
      ],
      "execution_count": null,
      "outputs": [
        {
          "output_type": "execute_result",
          "data": {
            "text/plain": [
              "96.26971179989124"
            ]
          },
          "metadata": {
            "tags": []
          },
          "execution_count": 15
        }
      ]
    },
    {
      "cell_type": "code",
      "metadata": {
        "id": "LkQHd_At_Njr",
        "colab": {
          "base_uri": "https://localhost:8080/"
        },
        "outputId": "3f6cf3ca-317e-4967-f4ef-6d90a9e98ca9"
      },
      "source": [
        "confusion_matrix(vid_newpred, vid_true)"
      ],
      "execution_count": null,
      "outputs": [
        {
          "output_type": "execute_result",
          "data": {
            "text/plain": [
              "array([[17701,    48],\n",
              "       [  638,     3]])"
            ]
          },
          "metadata": {
            "tags": []
          },
          "execution_count": 16
        }
      ]
    }
  ]
}