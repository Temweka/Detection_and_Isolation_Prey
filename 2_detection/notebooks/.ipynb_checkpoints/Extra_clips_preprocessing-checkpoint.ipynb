{
 "cells": [
  {
   "cell_type": "code",
   "execution_count": 1,
   "metadata": {},
   "outputs": [],
   "source": [
    "import pandas as pd\n",
    "import numpy as np\n",
    "from os import listdir\n",
    "import cv2\n",
    "import matplotlib.pyplot as plt"
   ]
  },
  {
   "cell_type": "code",
   "execution_count": 2,
   "metadata": {},
   "outputs": [],
   "source": [
    "def load_data(directory):\n",
    "    \n",
    "    file_names = []\n",
    "    \n",
    "    # Iterate through each file in the directory\n",
    "    for file in listdir(directory):\n",
    "        # Check file name contains .png\n",
    "        if '.png' in file: #check extension\n",
    "            # Append the file name\n",
    "            file_names.append(file)\n",
    "            \n",
    "    return file_names"
   ]
  },
  {
   "cell_type": "code",
   "execution_count": 3,
   "metadata": {},
   "outputs": [],
   "source": [
    "def Filename_DataFrame(directory, label):\n",
    "    list_of_files = load_data(directory)\n",
    "    \n",
    "    penguin_ID = []\n",
    "    Video_ID = []\n",
    "    Date = []\n",
    "    Time = []\n",
    "    Frame_No = []\n",
    "    Label = []\n",
    "    file_name = []\n",
    "\n",
    "    for file in list_of_files:\n",
    "        labels = file.split(\"_\")\n",
    "        penguin_ID.append(labels[0])\n",
    "        Video_ID.append(labels[2][:-4])\n",
    "        Date.append(labels[4])\n",
    "        Time.append((labels[5]+ \":\" + labels[6]+ \":\" +labels[7]))\n",
    "        Frame_No.append(labels[-1][:-4])\n",
    "        Label.append(label)\n",
    "        file_name.append(file)\n",
    "        \n",
    "    return pd.DataFrame({'penguin_ID': penguin_ID,'Video_ID': Video_ID,'Date': Date, 'Time': Time,'Frame_No': Frame_No, 'Label': Label, 'File_Name':file_name})\n",
    "    "
   ]
  },
  {
   "cell_type": "code",
   "execution_count": 4,
   "metadata": {},
   "outputs": [],
   "source": [
    "def extract_data_from_multiple_files(directory, label, resize):\n",
    "    \n",
    "    # Directory listing\n",
    "    file_names = load_data(directory)\n",
    "    \n",
    "    # Create empty list to store features and target\n",
    "    X = []\n",
    "    Y = []\n",
    "    \n",
    "    num_files = len(file_names)\n",
    "    \n",
    "    # Iterate over the .jpeg files\n",
    "    for idx, file in enumerate(file_names):\n",
    "\n",
    "        if idx%100 == 0:\n",
    "            print (str(idx)+str(' files read out of ') + str(num_files))\n",
    "            \n",
    "        # Extract the image data\n",
    "        data = cv2.imread(directory+file,cv2.cv2.COLOR_BGR2RGB)\n",
    "        new_img_array = cv2.resize(data, dsize=resize)\n",
    "        \n",
    "        #if len(data) == 22050:\n",
    "        \n",
    "        # Append the features and target\n",
    "        X.append(new_img_array)\n",
    "        #Y.append(label)\n",
    "    \n",
    "    # Return the features and target as a Numpy array\n",
    "    return np.array(X)"
   ]
  },
  {
   "cell_type": "markdown",
   "metadata": {},
   "source": [
    "Import extra clips from Video 1"
   ]
  },
  {
   "cell_type": "code",
   "execution_count": null,
   "metadata": {},
   "outputs": [],
   "source": [
    "x_a = extract_data_from_multiple_files(directory=\"C:\\\\Users\\\\TemwekaC\\\\MOVI0006_1\\\\with_nonprey\\\\1\\\\\", label=\"prey\", resize=(224, 224))"
   ]
  },
  {
   "cell_type": "code",
   "execution_count": null,
   "metadata": {},
   "outputs": [],
   "source": [
    "x_b = extract_data_from_multiple_files(directory=\"C:\\\\Users\\\\TemwekaC\\\\MOVI0006_1\\\\with_nonprey\\\\2.1\\\\\", label=\"prey\", resize=(224, 224))\n",
    "x_c = extract_data_from_multiple_files(directory=\"C:\\\\Users\\\\TemwekaC\\\\MOVI0006_1\\\\with_nonprey\\\\3\\\\\", label=\"prey\", resize=(224, 224))"
   ]
  },
  {
   "cell_type": "code",
   "execution_count": null,
   "metadata": {},
   "outputs": [],
   "source": [
    "np.savez('C:\\\\Users\\\\TemwekaC\\\\MOVI0006_1\\\\with_nonprey\\\\tester_clips.npz', a=x_a, b=x_b, c=x_c)"
   ]
  },
  {
   "cell_type": "markdown",
   "metadata": {},
   "source": [
    "Import extra clips from Video 2"
   ]
  },
  {
   "cell_type": "code",
   "execution_count": 5,
   "metadata": {},
   "outputs": [
    {
     "name": "stdout",
     "output_type": "stream",
     "text": [
      "0 files read out of 111\n",
      "100 files read out of 111\n"
     ]
    }
   ],
   "source": [
    "x_d = extract_data_from_multiple_files(directory=\"C:\\\\Users\\\\TemwekaC\\\\MOVI0004\\\\with_nonprey\\\\clip_1\\\\\", label=\"prey\", resize=(224, 224))"
   ]
  },
  {
   "cell_type": "code",
   "execution_count": 6,
   "metadata": {},
   "outputs": [],
   "source": [
    "np.savez('C:\\\\Users\\\\TemwekaC\\\\MOVI0004\\\\tester_clips1.npz', a=x_d)"
   ]
  },
  {
   "cell_type": "code",
   "execution_count": null,
   "metadata": {},
   "outputs": [],
   "source": []
  }
 ],
 "metadata": {
  "kernelspec": {
   "display_name": "Python 3",
   "language": "python",
   "name": "python3"
  },
  "language_info": {
   "codemirror_mode": {
    "name": "ipython",
    "version": 3
   },
   "file_extension": ".py",
   "mimetype": "text/x-python",
   "name": "python",
   "nbconvert_exporter": "python",
   "pygments_lexer": "ipython3",
   "version": "3.7.6"
  }
 },
 "nbformat": 4,
 "nbformat_minor": 4
}
